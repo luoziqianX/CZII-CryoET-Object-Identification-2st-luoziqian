{
 "cells": [
  {
   "cell_type": "code",
   "execution_count": 1,
   "id": "d5df2a45",
   "metadata": {
    "execution": {
     "iopub.execute_input": "2025-02-05T09:00:46.647617Z",
     "iopub.status.busy": "2025-02-05T09:00:46.647249Z",
     "iopub.status.idle": "2025-02-05T09:01:54.831294Z",
     "shell.execute_reply": "2025-02-05T09:01:54.830215Z"
    },
    "papermill": {
     "duration": 68.191514,
     "end_time": "2025-02-05T09:01:54.833855",
     "exception": false,
     "start_time": "2025-02-05T09:00:46.642341",
     "status": "completed"
    },
    "tags": []
   },
   "outputs": [
    {
     "name": "stdout",
     "output_type": "stream",
     "text": [
      "Processing /kaggle/input/tensorrt-10-1-0/nvidia_cuda_runtime_cu12-12.2.140-py3-none-manylinux1_x86_64.whl\r\n",
      "Installing collected packages: nvidia-cuda-runtime-cu12\r\n",
      "Successfully installed nvidia-cuda-runtime-cu12-12.2.140\r\n",
      "Processing /kaggle/input/tensorrt-10-1-0/tensorrt_cu12_bindings-10.1.0-cp310-none-manylinux_2_17_x86_64.whl\r\n",
      "Installing collected packages: tensorrt-cu12-bindings\r\n",
      "Successfully installed tensorrt-cu12-bindings-10.1.0\r\n",
      "Processing /kaggle/input/tensorrt-10-1-0/tensorrt_cu12_libs-10.1.0-py2.py3-none-manylinux_2_17_x86_64.whl\r\n",
      "Requirement already satisfied: nvidia-cuda-runtime-cu12 in /usr/local/lib/python3.10/dist-packages (from tensorrt-cu12-libs==10.1.0) (12.2.140)\r\n",
      "Installing collected packages: tensorrt-cu12-libs\r\n",
      "Successfully installed tensorrt-cu12-libs-10.1.0\r\n",
      "Processing /kaggle/input/tensorrt-10-1-0/tensorrt_cu12-10.1.0-py2.py3-none-any.whl\r\n",
      "Installing collected packages: tensorrt-cu12\r\n",
      "Successfully installed tensorrt-cu12-10.1.0\r\n",
      "Processing /kaggle/input/tensorrt-10-1-0/tensorrt-10.1.0-py2.py3-none-any.whl\r\n",
      "Requirement already satisfied: tensorrt-cu12 in /usr/local/lib/python3.10/dist-packages (from tensorrt==10.1.0) (10.1.0)\r\n",
      "Installing collected packages: tensorrt\r\n",
      "Successfully installed tensorrt-10.1.0\r\n",
      "Processing /kaggle/input/tensorrt-10-1-0/polygraphy-0.49.14-py2.py3-none-any.whl\r\n",
      "Installing collected packages: polygraphy\r\n",
      "Successfully installed polygraphy-0.49.14\r\n",
      "Processing ./torch2trt\r\n",
      "  Preparing metadata (setup.py) ... \u001b[?25l\u001b[?25hdone\r\n",
      "Building wheels for collected packages: torch2trt\r\n",
      "  Building wheel for torch2trt (setup.py) ... \u001b[?25l\u001b[?25hdone\r\n",
      "  Created wheel for torch2trt: filename=torch2trt-0.5.0-py3-none-any.whl size=53587 sha256=29630a2b60a017ae8628c2e523faa40a170a5509ec16cf3ca40cf556a777b0c1\r\n",
      "  Stored in directory: /tmp/pip-ephem-wheel-cache-l8kb778r/wheels/aa/13/b6/9c4fc920c86433a17d0e9633c5893ca6c7b3927833c4b5a067\r\n",
      "Successfully built torch2trt\r\n",
      "Installing collected packages: torch2trt\r\n",
      "Successfully installed torch2trt-0.5.0\r\n"
     ]
    }
   ],
   "source": [
    "!pip install /kaggle/input/tensorrt-10-1-0/nvidia_cuda_runtime_cu12-12.2.140-py3-none-manylinux1_x86_64.whl\n",
    "!pip install /kaggle/input/tensorrt-10-1-0/tensorrt_cu12_bindings-10.1.0-cp310-none-manylinux_2_17_x86_64.whl\n",
    "!pip install /kaggle/input/tensorrt-10-1-0/tensorrt_cu12_libs-10.1.0-py2.py3-none-manylinux_2_17_x86_64.whl\n",
    "!pip install /kaggle/input/tensorrt-10-1-0/tensorrt_cu12-10.1.0-py2.py3-none-any.whl\n",
    "!pip install /kaggle/input/tensorrt-10-1-0/tensorrt-10.1.0-py2.py3-none-any.whl\n",
    "!pip install /kaggle/input/tensorrt-10-1-0/polygraphy-0.49.14-py2.py3-none-any.whl\n",
    "!cp -r /kaggle/input/tensorrt-10-1-0/torch2trt-master /kaggle/working/torch2trt\n",
    "!pip install /kaggle/working/torch2trt"
   ]
  },
  {
   "cell_type": "code",
   "execution_count": 2,
   "id": "b36ba4e8",
   "metadata": {
    "execution": {
     "iopub.execute_input": "2025-02-05T09:01:54.841683Z",
     "iopub.status.busy": "2025-02-05T09:01:54.841353Z",
     "iopub.status.idle": "2025-02-05T09:01:54.846176Z",
     "shell.execute_reply": "2025-02-05T09:01:54.845407Z"
    },
    "papermill": {
     "duration": 0.010011,
     "end_time": "2025-02-05T09:01:54.847482",
     "exception": false,
     "start_time": "2025-02-05T09:01:54.837471",
     "status": "completed"
    },
    "tags": []
   },
   "outputs": [
    {
     "name": "stdout",
     "output_type": "stream",
     "text": [
      "0\n"
     ]
    }
   ],
   "source": [
    "print(0)"
   ]
  },
  {
   "cell_type": "code",
   "execution_count": 3,
   "id": "7b9d12ac",
   "metadata": {
    "execution": {
     "iopub.execute_input": "2025-02-05T09:01:54.854226Z",
     "iopub.status.busy": "2025-02-05T09:01:54.853989Z",
     "iopub.status.idle": "2025-02-05T09:11:01.112200Z",
     "shell.execute_reply": "2025-02-05T09:11:01.111004Z"
    },
    "papermill": {
     "duration": 546.263694,
     "end_time": "2025-02-05T09:11:01.114178",
     "exception": false,
     "start_time": "2025-02-05T09:01:54.850484",
     "status": "completed"
    },
    "tags": []
   },
   "outputs": [
    {
     "name": "stdout",
     "output_type": "stream",
     "text": [
      "[W] 'colored' module is not installed, will not use colors when logging. To enable colors, please install the 'colored' module: python3 -m pip install colored\r\n",
      "[I] Configuring with profiles:[\r\n",
      "        Profile 0:\r\n",
      "            {images [min=[1, 1, 128, 384, 384], opt=[1, 1, 128, 384, 384], max=[1, 1, 128, 384, 384]]}\r\n",
      "    ]\r\n",
      "[W] profileSharing0806 is on by default in TensorRT 10.0. This flag is deprecated and has no effect.\r\n",
      "[I] Building engine with configuration:\r\n",
      "    Flags                  | [FP16]\r\n",
      "    Engine Capability      | EngineCapability.STANDARD\r\n",
      "    Memory Pools           | [WORKSPACE: 15095.06 MiB, TACTIC_DRAM: 15095.06 MiB, TACTIC_SHARED_MEMORY: 1024.00 MiB]\r\n",
      "    Tactic Sources         | [EDGE_MASK_CONVOLUTIONS, JIT_CONVOLUTIONS]\r\n",
      "    Profiling Verbosity    | ProfilingVerbosity.DETAILED\r\n",
      "    Preview Features       | [PROFILE_SHARING_0806]\r\n",
      "[I] Finished engine building in 542.631 seconds\r\n"
     ]
    }
   ],
   "source": [
    "# convert onnx weight to tensorrt engine\n",
    "!polygraphy convert \\\n",
    "    /kaggle/input/fork-of-fork-of-fork-of-7-model-6tta-t4x2-patch-no/0_unet2e3d.onnx \\\n",
    "    --output 0_unet2e3d_7c.engine \\\n",
    "    --fp16 \\\n",
    "    --trt-min-shapes \"images:[1,1,128,384,384]\" \\\n",
    "    --trt-opt-shapes \"images:[1,1,128,384,384]\" \\\n",
    "    --trt-max-shapes \"images:[1,1,128,384,384]\""
   ]
  }
 ],
 "metadata": {
  "kaggle": {
   "accelerator": "nvidiaTeslaT4",
   "dataSources": [
    {
     "datasetId": 5467468,
     "sourceId": 9065566,
     "sourceType": "datasetVersion"
    },
    {
     "datasetId": 6452627,
     "sourceId": 10418508,
     "sourceType": "datasetVersion"
    },
    {
     "datasetId": 6478796,
     "sourceId": 10464532,
     "sourceType": "datasetVersion"
    },
    {
     "datasetId": 6486959,
     "sourceId": 10476214,
     "sourceType": "datasetVersion"
    },
    {
     "sourceId": 217676659,
     "sourceType": "kernelVersion"
    },
    {
     "sourceId": 219587952,
     "sourceType": "kernelVersion"
    },
    {
     "sourceId": 220600161,
     "sourceType": "kernelVersion"
    },
    {
     "sourceId": 220801100,
     "sourceType": "kernelVersion"
    },
    {
     "sourceId": 220904207,
     "sourceType": "kernelVersion"
    }
   ],
   "dockerImageVersionId": 30823,
   "isGpuEnabled": true,
   "isInternetEnabled": true,
   "language": "python",
   "sourceType": "notebook"
  },
  "kernelspec": {
   "display_name": "Python 3",
   "language": "python",
   "name": "python3"
  },
  "language_info": {
   "codemirror_mode": {
    "name": "ipython",
    "version": 3
   },
   "file_extension": ".py",
   "mimetype": "text/x-python",
   "name": "python",
   "nbconvert_exporter": "python",
   "pygments_lexer": "ipython3",
   "version": "3.10.12"
  },
  "papermill": {
   "default_parameters": {},
   "duration": 617.380356,
   "end_time": "2025-02-05T09:11:01.536459",
   "environment_variables": {},
   "exception": null,
   "input_path": "__notebook__.ipynb",
   "output_path": "__notebook__.ipynb",
   "parameters": {},
   "start_time": "2025-02-05T09:00:44.156103",
   "version": "2.6.0"
  }
 },
 "nbformat": 4,
 "nbformat_minor": 5
}
